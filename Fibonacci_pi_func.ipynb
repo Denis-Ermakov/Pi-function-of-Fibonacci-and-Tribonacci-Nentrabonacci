{
 "cells": [
  {
   "cell_type": "markdown",
   "id": "38fddf51",
   "metadata": {},
   "source": [
    "# Построение пи-функции последовательности Фибоначчи"
   ]
  },
  {
   "cell_type": "code",
   "execution_count": 8,
   "id": "b2cc2d88",
   "metadata": {},
   "outputs": [
    {
     "name": "stdout",
     "output_type": "stream",
     "text": [
      "[1.0, 3.1622776601683795, 10.0, 31.622776601683793, 100.0, 316.22776601683796, 1000.0, 3162.2776601683795, 10000.0, 31622.776601683792, 100000.0, 316227.7660168379, 1000000.0, 3162277.6601683795, 10000000.0, 31622776.60168379, 100000000.0, 316227766.01683795, 1000000000.0, 3162277660.1683793, 10000000000.0, 31622776601.683792, 100000000000.0, 316227766016.83795, 1000000000000.0, 3162277660168.3794, 10000000000000.0, 31622776601683.793, 100000000000000.0, 316227766016837.94, 1000000000000000.0, 3162277660168379.5, 1e+16, 3.162277660168379e+16]\n",
      "[0, 2, 3, 4, 5, 6, 6, 7, 7, 8, 8, 8, 9, 9, 9, 9, 9, 9, 10, 11, 11, 11, 11, 11, 11, 11, 11, 11, 11, 11, 11, 11, 11, 11]\n"
     ]
    },
    {
     "data": {
      "image/png": "[encoded data removed]",
      "text/plain": [
       "<Figure size 720x432 with 1 Axes>"
      ]
     },
     "metadata": {
      "needs_background": "light"
     },
     "output_type": "display_data"
    },
    {
     "name": "stdout",
     "output_type": "stream",
     "text": [
      "[2, 3, 5, 13, 89, 233, 1597, 28657, 514229, 433494437, 2971215073]\n",
      "[1, 2, 3, 4, 5, 6, 7, 8, 9, 10, 11]\n"
     ]
    },
    {
     "data": {
      "image/png": "[encoded data removed]",
      "text/plain": [
       "<Figure size 432x288 with 1 Axes>"
      ]
     },
     "metadata": {
      "needs_background": "light"
     },
     "output_type": "display_data"
    }
   ],
   "source": [
    "import seaborn as sns\n",
    "import matplotlib.pyplot as plt\n",
    "import pandas as pd\n",
    "\n",
    "#Функция заполняет пустой массив числами Фибоначчи, не превосходящими заданный супремум\n",
    "# и возвращает заполненный массив, \n",
    "def Fib_numbers_fill(supremum, Fib_array):\n",
    "    #Сначала разберем отдельно случаи, в которых супремум меньше 2 (тривиальные)\n",
    "    if supremum < 0:\n",
    "        return Fib_array\n",
    "    elif supremum < 1:\n",
    "        Fib_array.append(0)\n",
    "        return Fib_array\n",
    "    elif supremum < 2:\n",
    "        Fib_array.append(0)\n",
    "        Fib_array.append(1)\n",
    "        Fib_array.append(1)\n",
    "        return Fib_array\n",
    "    #Основной случай:\n",
    "    else:\n",
    "        #Добавляем первые 3 элемента и устанавливаем ими рабочии переменные:\n",
    "        #последнее число Фибоначчи и 2 предпоследних\n",
    "        Fib_array.append(0)\n",
    "        Fib_array.append(1)\n",
    "        Fib_array.append(1)\n",
    "        Fib_num_1 = 1\n",
    "        Fib_num_2 = 1\n",
    "        Fib_num = 2\n",
    "        #Пока последнее число не превосходит заданный супремум, добавляем к массиву последнее число\n",
    "        #затем пересчитываем предпоследние (сдвигом), затем считаем последнее, как их сумму\n",
    "        while Fib_num <= supremum:\n",
    "            Fib_array.append(Fib_num)\n",
    "            Fib_num_1 = Fib_num_2\n",
    "            Fib_num_2 = Fib_num\n",
    "            Fib_num = Fib_num_1 + Fib_num_2\n",
    "\n",
    "        return Fib_array\n",
    "\n",
    "\n",
    "#Функция проверки числа на простоту\n",
    "def is_a_prime_number(number):\n",
    "    #Если число не целое или <= 1, то не простое\n",
    "    if number <= 1 or isinstance(number, int) == False:\n",
    "        return False\n",
    "    is_prime = True\n",
    "\n",
    "    i = 2\n",
    "    #обычный поиск делителей, который пробегает до корня из числа\n",
    "    while i * i <= number:\n",
    "        if number % i == 0:\n",
    "            is_prime = False\n",
    "            break\n",
    "        i += 1\n",
    "\n",
    "    return is_prime\n",
    "\n",
    "#Функция, считающая количество простых чисел в массиве (чисел Фибоначчи)\n",
    "def count_primes(array):\n",
    "    count = 0\n",
    "\n",
    "    for i in range(len(array)):\n",
    "        if is_a_prime_number(array[i]):\n",
    "            count += 1\n",
    "\n",
    "    return count\n",
    "\n",
    "#Функция, которая берет массив чисел Фибоначчи и возвращает массив, с только простыми числами Фибоначчи\n",
    "#Для того, чтобы создать все точки скачка пи-функции для построения ее ступенчатого графика\n",
    "def cut_composites(array_Fibb):\n",
    "    arr_Fib_prime = []\n",
    "    \n",
    "    for i in array_Fibb:\n",
    "        if is_a_prime_number(i):\n",
    "            arr_Fib_prime.append(i)\n",
    "    \n",
    "    return arr_Fib_prime\n",
    "\n",
    "#Функция подсчета значения пи-функции числа\n",
    "#Создается массив, заполненный числами Фибоначчи, не превосходящими, данное число,\n",
    "# и затем подсчитывается, сколько из них простые\n",
    "def Pi_func(x):\n",
    "    Fib_numbers = []\n",
    "    Fib_numbers = Fib_numbers_fill(x, Fib_numbers)\n",
    "    pi_F = count_primes(Fib_numbers)\n",
    "    return pi_F\n",
    "\n",
    "#Функция построения графика пи-функции (точечный график), максимальное значение аргумента - заданная степень десяти\n",
    "def pi_func_plot(deg_max):\n",
    "    x = []\n",
    "    y = []\n",
    "\n",
    "    #Генерируются значения аргументов(степени десятки с шагом 0.5), по ним высчитываются их пи-функции\n",
    "    for i in range(deg_max * 2):#18 possible but slow\n",
    "        x.append(10**(i / 2))\n",
    "        y.append(Pi_func(x[i]))\n",
    "\n",
    "    print(x)\n",
    "    print(y)\n",
    "    #Построение графика, через датафрейм и библиотеку seaborn\n",
    "    data = pd.DataFrame({\n",
    "    'x': x,\n",
    "    'Pi(x)': y\n",
    "    })\n",
    "\n",
    "    plt.figure(figsize=(10, 6))\n",
    "    sns.scatterplot(data=data, x='x', y='Pi(x)')\n",
    "\n",
    "    plt.xscale('log')\n",
    "\n",
    "    plt.title('Пи-функция последовательности чисел Фибоначчи')\n",
    "    plt.xlabel('X')\n",
    "    plt.ylabel('Pi(X)')\n",
    "\n",
    "    plt.show()\n",
    "    \n",
    "\n",
    "#Другое построение графика: ступенчатое, более соответствующее математическому    \n",
    "def pi_func_plot_2(deg_max):\n",
    "    x = []\n",
    "    y = []\n",
    "\n",
    "    #Аргументы генерируются не как степени десятки, а как простые числа Фибоначчи, на которых происходят скачки\n",
    "    x = Fib_numbers_fill(10**deg_max, x)\n",
    "    x = cut_composites(x)\n",
    "    for i in range(len(x)):\n",
    "        y.append(Pi_func(x[i]))\n",
    "    \n",
    "    print(x)\n",
    "    print(y)\n",
    "\n",
    "    #Построение\n",
    "    plt.plot(x, y, drawstyle='steps-pre')\n",
    "    plt.xscale('log')\n",
    "    plt.title('Пи-функция последовательности чисел Фибоначчи')\n",
    "    plt.xlabel('X')\n",
    "    plt.ylabel('Pi(X)')\n",
    "    plt.show()\n",
    "\n",
    "    \n",
    "\n",
    "pi_func_plot(17)#18 possible but slow\n",
    "pi_func_plot_2(16)\n",
    "\n",
    "    \n",
    "    \n",
    "\n"
   ]
  },
  {
   "cell_type": "markdown",
   "id": "188d0c84",
   "metadata": {},
   "source": [
    "# Завсиимость времени построения графика, от максимального аргумента пи-функции"
   ]
  },
  {
   "cell_type": "code",
   "execution_count": 11,
   "id": "359d0b60",
   "metadata": {},
   "outputs": [
    {
     "name": "stdout",
     "output_type": "stream",
     "text": [
      "Время выполнения: 0.0000 секунд\n",
      "Время выполнения: 0.0000 секунд\n",
      "Время выполнения: 0.0001 секунд\n",
      "Время выполнения: 0.0001 секунд\n",
      "Время выполнения: 0.0002 секунд\n",
      "Время выполнения: 0.0005 секунд\n",
      "Время выполнения: 0.0011 секунд\n",
      "Время выполнения: 0.0024 секунд\n",
      "Время выполнения: 0.0080 секунд\n",
      "Время выполнения: 0.0119 секунд\n",
      "Время выполнения: 0.1113 секунд\n",
      "Время выполнения: 0.1233 секунд\n",
      "Время выполнения: 0.1141 секунд\n",
      "Время выполнения: 0.1542 секунд\n",
      "Время выполнения: 0.1888 секунд\n",
      "Время выполнения: 0.2293 секунд\n",
      "Время выполнения: 5.7158 секунд\n",
      "Время выполнения: 9.7547 секунд\n"
     ]
    },
    {
     "data": {
      "image/png": "[encoded data removed]",
      "text/plain": [
       "<Figure size 720x432 with 1 Axes>"
      ]
     },
     "metadata": {
      "needs_background": "light"
     },
     "output_type": "display_data"
    }
   ],
   "source": [
    "#Функция, производящаяя, все действия функции строящей график, кроме самого построения\n",
    "# и считающая затраченное время\n",
    "def pi_func_plot_time_measure(deg_max):\n",
    "    start_time = time.time()\n",
    "    x = []\n",
    "    y = []\n",
    "\n",
    "    for i in range(deg_max * 2):#18 possible but slow\n",
    "        x.append(10**(i / 2))\n",
    "        y.append(Pi_func(x[i]))\n",
    "\n",
    "    end_time = time.time()  \n",
    "\n",
    "    execution_time = end_time - start_time\n",
    "    print(f\"Время выполнения: {execution_time:.4f} секунд\")\n",
    "\n",
    "    return execution_time\n",
    "\n",
    "    \n",
    "\n",
    "    \n",
    "#Функция, которая строит зависимость времени выполнения построения графика пи-функции\n",
    "#от степени максимального его аргумента\n",
    "def plot_execution_time(deg_max):\n",
    "    deg = []\n",
    "    ex_time = []\n",
    "    for i in range(deg_max + 1):\n",
    "        deg.append(i)\n",
    "        ex_t = pi_func_plot_time_measure(i)\n",
    "        #print(\"Время выполнения программы \" + str(ex_t) + \" секунд\")\n",
    "        ex_time.append(ex_t)\n",
    "\n",
    "    data = pd.DataFrame({\n",
    "    'deg x': deg,\n",
    "    'Execution_time': ex_time\n",
    "    })\n",
    "\n",
    "    plt.figure(figsize=(10, 6))\n",
    "    sns.scatterplot(data=data, x='deg x', y='Execution_time')\n",
    "\n",
    "    plt.yscale('log')\n",
    "\n",
    "    plt.title('Зависимость времени исполнения программы от степени максимального аргумента пи-функции')\n",
    "    plt.xlabel('Степень максимального аргумента пи-функции')\n",
    "    plt.ylabel('Execution time (шкала логарифмирована)')\n",
    "\n",
    "    plt.show()\n",
    "        \n",
    "plot_execution_time(17)#16 - 5 сек, 17, 15 сек\n",
    "    \n",
    "\n",
    "\n",
    "    \n",
    "    \n"
   ]
  },
  {
   "cell_type": "code",
   "execution_count": 18,
   "id": "97bdc05e",
   "metadata": {},
   "outputs": [
    {
     "name": "stdout",
     "output_type": "stream",
     "text": [
      "40.94188475608826\n",
      "26.116021156311035\n"
     ]
    }
   ],
   "source": [
    "#Тут я просто немного поэкспериментрировал с распараллеливанием в другой задаче\n",
    "def func(x):\n",
    "    sum = 0\n",
    "    for i in range(x):\n",
    "        sum += i\n",
    "\n",
    "    return sum\n",
    "\n",
    "\n",
    "#print(func(1000000))\n",
    "\n",
    "import time\n",
    "\n",
    "time_0 = time.time()\n",
    "for i in range(1000, 3000000, 10000):\n",
    "    t = func(i)\n",
    "time_1 = time.time()\n",
    "print(time_1 - time_0)\n",
    "\n",
    "from multiprocessing import Process\n",
    "\n",
    "time_0 = time.time()\n",
    "\n",
    "p = [Process(target = func, args = (i,)) for i in range(1000, 3000000, 10000)]\n",
    "for i in p:\n",
    "    i.start()\n",
    "for i in p:\n",
    "    i.join()\n",
    "\n",
    "time_1 = time.time()\n",
    "print(time_1 - time_0)"
   ]
  }
 ],
 "metadata": {
  "kernelspec": {
   "display_name": "Python 3",
   "language": "python",
   "name": "python3"
  },
  "language_info": {
   "codemirror_mode": {
    "name": "ipython",
    "version": 3
   },
   "file_extension": ".py",
   "mimetype": "text/x-python",
   "name": "python",
   "nbconvert_exporter": "python",
   "pygments_lexer": "ipython3",
   "version": "3.6.9"
  }
 },
 "nbformat": 4,
 "nbformat_minor": 5
}
